{
 "cells": [
  {
   "cell_type": "code",
   "execution_count": null,
   "metadata": {},
   "outputs": [],
   "source": [
    "import cv2\n",
    "import numpy as np\n",
    "\n",
    "img = cv2.imread('C:\\Users\\lenovo\\Documents\\GitHub\\images\\download.jpg')\n",
    "gray = cv2.cvtColor(img, cv2.COLOR_BGR2GRAY)\n",
    "\n",
    "# dimension of gray image is in 2D\n",
    "dimensions = gray.shape # (height,weight)\n",
    "\n",
    "print(\"Image Dimensions:\", dimensions)\n",
    "n = int(input(\"Enter the size of the original image to be captured:\"))\n",
    "print(\"The matrix of the original image:\")\n",
    "\n",
    "\n",
    "for i in range(0, n):\n",
    "\tfor j in range(0, n):\n",
    "\t\tprint(gray[i][j], end=\" \")\n",
    "\tprint()\n",
    "\"\"\"\n",
    "Apply below filter on image matrix\n",
    "0 -1 0\n",
    "-1 4 -1\n",
    "0 -1 0\n",
    "\"\"\"\n",
    "filter = np.zeros(shape=(n, n))\n",
    "for i in range(0, n):\n",
    "\tfor j in range(0, n):\n",
    "\t\tfilter[i][j] = 0*gray[i][j]-1*gray[i][j+1]\\\n",
    "\t\t+0*gray[i][j+2]-1*gray[i+1][j]+4 * \\\n",
    "\t\t\tgray[i+1][j+1]-1*gray[i+1][j+2]+0*gray[i+2][j] - \\\n",
    "\t\t\t1*gray[i+2][j+1]+0*gray[i+2][j+2]\n",
    "\n",
    "print(\"\\n\")\n",
    "print(\"The matrix form after HPF masking the captured image is:\")\n",
    "print(\"\\n\")\n",
    "for hpf in filter:\n",
    "\tprint(hpf)\n",
    "\n",
    "cv2.imshow(\"Image\", gray)\n",
    "cv2.waitKey(0)\n",
    "cv2.destroyAllWindows()\n"
   ]
  }
 ],
 "metadata": {
  "kernelspec": {
   "display_name": "Python 3",
   "language": "python",
   "name": "python3"
  },
  "language_info": {
   "name": "python",
   "version": "3.10.8 (tags/v3.10.8:aaaf517, Oct 11 2022, 16:50:30) [MSC v.1933 64 bit (AMD64)]"
  },
  "orig_nbformat": 4,
  "vscode": {
   "interpreter": {
    "hash": "213524bb45a1aeaf737b1d8c77d7b8db5d425938d9dffc5f4bc6fe6dd3324700"
   }
  }
 },
 "nbformat": 4,
 "nbformat_minor": 2
}
